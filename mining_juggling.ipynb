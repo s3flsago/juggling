{
 "cells": [
  {
   "cell_type": "code",
   "execution_count": 1,
   "metadata": {},
   "outputs": [
    {
     "name": "stderr",
     "output_type": "stream",
     "text": [
      "Missing colon in file PosixPath('/home/s3flsago/physik/.config/matplotlib/stylelib/mplStyleFS.mplstyle'), line 34 (\"axes.color_cycle cycler('color', plt.cm.Set3.colors)\")\n",
      "Bad value in file PosixPath('/home/s3flsago/physik/.config/matplotlib/stylelib/mplStyleFS.mplstyle'), line 33 (\"axes.prop_cycle: cycler('color', plt.cm.Set3.colors)\"): Key axes.prop_cycle: 'cycler('color', plt.cm.Set3.colors)' is not a valid cycler construction: name 'plt' is not defined\n"
     ]
    }
   ],
   "source": [
    "import matplotlib.pyplot as plt\n",
    "import numpy as np\n",
    "\n",
    "#plt.style.use(\"mplStyleFS\")\n",
    "\n",
    "#colors = plt.rcParams['axes.prop_cycle'].by_key()['color']"
   ]
  },
  {
   "cell_type": "code",
   "execution_count": 9,
   "metadata": {},
   "outputs": [],
   "source": [
    "figs_path = f'/home/s3flsago/physik/MA/juggling-webslides/static/images'"
   ]
  },
  {
   "cell_type": "code",
   "execution_count": 5,
   "metadata": {},
   "outputs": [
    {
     "data": {
      "text/plain": [
       "True"
      ]
     },
     "execution_count": 5,
     "metadata": {},
     "output_type": "execute_result"
    }
   ],
   "source": [
    "def is_valid_init(a):\n",
    "    n = len(a)\n",
    "    freq = [0] * n  # a list of n zeros\n",
    "    for i in range(n):  # i from 0 to n-1\n",
    "        b_i = (i + a[i]) % n\n",
    "        freq[b_i] += 1\n",
    "    for j in freq:\n",
    "        if j != 1:\n",
    "            return False\n",
    "    return True\n",
    "\n",
    "def is_valid_2(a):\n",
    "    a_ext = a[-1:-1] + a + a\n",
    "\n",
    "    # iterate over throws in pattern:\n",
    "    jugglable = []\n",
    "    for i, a_i in zip(range(len(a)), a_ext[len(a)+1:]):\n",
    "        jugglable_ithrow = 0\n",
    "\n",
    "        # iterate over all throws before\n",
    "        for j in range(i+len(a)+1):\n",
    "            if j+a_ext[j]==i+len(a)+1:\n",
    "                jugglable_ithrow += 1\n",
    "        \n",
    "        jugglable.append(jugglable_ithrow)\n",
    "    \n",
    "    # was there a throw, where no or more than one throw was in the hand?\n",
    "    return all(np.array(jugglable)==1)\n",
    "\n",
    "def is_valid_3(a):\n",
    "    a_ext = a[-1:-1] + a + a\n",
    "\n",
    "    # iterate over throws in pattern:\n",
    "    jugglable = []\n",
    "    for i, a_i in zip(range(len(a)), a_ext[len(a)+1:]):\n",
    "        jugglable_ithrow = 0\n",
    "\n",
    "        # iterate over all throws before\n",
    "        for j in range(i+len(a)+1):\n",
    "            if j+a_ext[j]==i+len(a)+1:\n",
    "                jugglable_ithrow += 1\n",
    "        \n",
    "        jugglable.append(jugglable_ithrow)\n",
    "    \n",
    "    # was there a throw, where no or more than one throw was in the hand?\n",
    "    return all(np.array(jugglable)==1)\n",
    "\n",
    "\n",
    "#is_valid([4,4,1,3])\n",
    "is_valid_2([4,4,1,3])"
   ]
  },
  {
   "cell_type": "code",
   "execution_count": null,
   "metadata": {},
   "outputs": [],
   "source": []
  },
  {
   "cell_type": "code",
   "execution_count": 7,
   "metadata": {},
   "outputs": [
    {
     "name": "stdout",
     "output_type": "stream",
     "text": [
      "[1, 1, 1] (1 balls)\n",
      "[1, 1, 4] (2 balls)\n",
      "[1, 1, 5] (2 balls)\n",
      "[1, 4, 1] (2 balls)\n",
      "[1, 4, 4] (3 balls)\n",
      "[1, 5, 3] (3 balls)\n",
      "[3, 3, 3] (3 balls)\n",
      "[4, 1, 1] (2 balls)\n",
      "[4, 1, 4] (3 balls)\n",
      "[4, 4, 1] (3 balls)\n",
      "[5, 3, 1] (3 balls)\n"
     ]
    }
   ],
   "source": [
    "def is_valid_init(a):\n",
    "    a_ext = a[-1:-1] + a + a\n",
    "\n",
    "    # iterate over throws in pattern:\n",
    "    jugglable = []\n",
    "    for i, a_i in zip(range(len(a)), a_ext[len(a)+1:]):\n",
    "        jugglable_ithrow = 0\n",
    "\n",
    "        # iterate over all throws before:\n",
    "        for j in range(i+len(a)+1):\n",
    "            if j+a_ext[j]==i+len(a)+1:\n",
    "                jugglable_ithrow += 1\n",
    "        \n",
    "        jugglable.append(jugglable_ithrow)\n",
    "    \n",
    "    # was there a throw, where no or more than one throw was in the hand?\n",
    "    return all(np.array(jugglable)==1)\n",
    "\n",
    "# brute force trying out patters:\n",
    "highest_throw = 5\n",
    "max_balls = 3\n",
    "\n",
    "for a_0 in range(highest_throw+1):\n",
    "    for a_1 in range(highest_throw+1):\n",
    "        for a_2 in range(highest_throw+1):\n",
    "            pattern = [a_0, a_1, a_2]\n",
    "\n",
    "            if is_valid_init(pattern) and \\\n",
    "                not ((0 in pattern) or (2 in pattern)) and \\\n",
    "                np.mean(pattern)<=3:\n",
    "                print(f'{pattern} ({int(np.mean(pattern))} balls)')\n",
    "            "
   ]
  },
  {
   "cell_type": "code",
   "execution_count": null,
   "metadata": {},
   "outputs": [],
   "source": []
  },
  {
   "cell_type": "code",
   "execution_count": 5,
   "metadata": {},
   "outputs": [],
   "source": [
    "import numpy as np"
   ]
  },
  {
   "cell_type": "code",
   "execution_count": 17,
   "metadata": {},
   "outputs": [],
   "source": [
    "def is_valid(a):\n",
    "    a_ext = a[-1:-1] + a + a\n",
    "\n",
    "    # iterate over throws in pattern:\n",
    "    jugglable = []\n",
    "    for i, a_i in zip(range(len(a)), a_ext[len(a)+1:]):\n",
    "        jugglable_ithrow = 0\n",
    "\n",
    "        # iterate over all throws before\n",
    "        for j in range(i+len(a)+1):\n",
    "            if j+a_ext[j]==i+len(a)+1:\n",
    "                jugglable_ithrow += 1\n",
    "        \n",
    "        jugglable.append(jugglable_ithrow)\n",
    "    \n",
    "    # was there a throw, where no or more than one throw was in the hand?\n",
    "    return all(np.array(jugglable)==1)"
   ]
  },
  {
   "cell_type": "code",
   "execution_count": 18,
   "metadata": {},
   "outputs": [
    {
     "name": "stdout",
     "output_type": "stream",
     "text": [
      "[1, 1, 1] (1 balls)\n",
      "[1, 1, 4] (2 balls)\n",
      "[1, 1, 5] (2 balls)\n",
      "[1, 4, 1] (2 balls)\n",
      "[1, 4, 4] (3 balls)\n",
      "[1, 5, 3] (3 balls)\n",
      "[3, 3, 3] (3 balls)\n",
      "[4, 1, 1] (2 balls)\n",
      "[4, 1, 4] (3 balls)\n",
      "[4, 4, 1] (3 balls)\n",
      "[5, 3, 1] (3 balls)\n"
     ]
    }
   ],
   "source": [
    "highest_throw = 5\n",
    "max_balls = 3\n",
    "\n",
    "# try out all patterns with lenth=3 with highest_throw:\n",
    "for a_0 in range(highest_throw+1):\n",
    "    for a_1 in range(highest_throw+1):\n",
    "        for a_2 in range(highest_throw+1):\n",
    "\n",
    "            pattern = [a_0, a_1, a_2]\n",
    "\n",
    "            if is_valid(pattern) and \\\n",
    "                not ((0 in pattern) or (2 in pattern)) and \\\n",
    "                np.mean(pattern)<=3:\n",
    "                print(f'{pattern} ({int(np.mean(pattern))} balls)')"
   ]
  },
  {
   "cell_type": "code",
   "execution_count": null,
   "metadata": {},
   "outputs": [],
   "source": []
  }
 ],
 "metadata": {
  "kernelspec": {
   "display_name": "Python 3.9.12 64-bit ('venvFS3')",
   "language": "python",
   "name": "python3"
  },
  "language_info": {
   "codemirror_mode": {
    "name": "ipython",
    "version": 3
   },
   "file_extension": ".py",
   "mimetype": "text/x-python",
   "name": "python",
   "nbconvert_exporter": "python",
   "pygments_lexer": "ipython3",
   "version": "3.9.12"
  },
  "vscode": {
   "interpreter": {
    "hash": "ee6d63cff159874c73afde0705f40b31b3b79d743d7b31e8a025a903e2f9477a"
   }
  }
 },
 "nbformat": 4,
 "nbformat_minor": 4
}
